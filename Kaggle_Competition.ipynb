{
 "cells": [
  {
   "cell_type": "markdown",
   "metadata": {},
   "source": [
    "# Kaggle Comptetition: Black Friday Sale Prediction"
   ]
  },
  {
   "cell_type": "markdown",
   "metadata": {},
   "source": [
    "__Task__: The objective to predict the primary product category given other features of the product. You may also create your own features.<br>\n",
    "\n",
    "__Metrics__: The evaluation metric for this competition is Accuracy.<br>\n",
    "\n",
    "__Other metrics (optional)__While you are working on the problem, you should also check the precision and recall of your models. However, this is\n",
    "for your learning, and will not be considered in the evaluation.<br>\n",
    "\n",
    "__Submission Format__<br>\n",
    "The solution file will be a CSV file consisting of Product_ID and your predicted class. It should contain two columns: Product_ID and Product_Category_1.<br>"
   ]
  },
  {
   "cell_type": "markdown",
   "metadata": {},
   "source": [
    "_import neccessary library_"
   ]
  },
  {
   "cell_type": "code",
   "execution_count": 829,
   "metadata": {
    "collapsed": true
   },
   "outputs": [],
   "source": [
    "import numpy as np\n",
    "import pandas as pd\n",
    "from sklearn.preprocessing import StandardScaler\n",
    "from sklearn.ensemble import RandomForestClassifier\n",
    "from sklearn.ensemble import BaggingClassifier\n",
    "from sklearn.ensemble import AdaBoostClassifier\n",
    "from sklearn.ensemble import VotingClassifier\n",
    "from sklearn.tree import DecisionTreeClassifier\n",
    "from sklearn.svm import SVC\n",
    "from sklearn.metrics import accuracy_score\n",
    "from sklearn.cross_validation import cross_val_score\n",
    "import matplotlib.pyplot as plt\n",
    "from sklearn.model_selection import GridSearchCV"
   ]
  },
  {
   "cell_type": "markdown",
   "metadata": {},
   "source": [
    "_Importing the data_<br>\n",
    "Courtersy to Analytics Vidhya\n",
    "\n",
    "_Exploring the data_:<br>\n",
    "The data provided consists of users and the product IDs of the products they purchased. <br>\n",
    "There are some other features as well. For some of the products, you will see that the target (Product_Category_1) is marked as -1. Those are your test data, i.e.the Product IDs for which you need to predict the category.<br>\n",
    "Note that you will need to transform the data to a one-row per product form for this.\n",
    "\n"
   ]
  },
  {
   "cell_type": "code",
   "execution_count": 844,
   "metadata": {
    "collapsed": true
   },
   "outputs": [],
   "source": [
    "# read in the data\n",
    "df = pd.read_csv('black_friday_data_kaggle.csv')\n",
    "\n",
    "\n",
    "# one hot encoding the categorical data\n",
    "df = pd.get_dummies(data=df, columns=['Gender', 'Age', 'Occupation',\n",
    "                                   'City_Category', 'Marital_Status',\n",
    "                                   'Stay_In_Current_City_Years',])\n",
    "df = df.drop(['Product_Category_2', 'Product_Category_3'], axis = 1)\n",
    "\n",
    "#drop missing data\n",
    "df = df.dropna()\n",
    "# print(list(df))\n",
    "# print('##################')\n",
    "\n",
    "\n",
    "#normalize the data\n",
    "# sc = StandardScaler()\n",
    "# df.loc[:, ~df.columns.isin(['User_ID', 'Product_ID', 'Product_Category_1'])] = sc.fit_transform(df.loc[:, ~df.columns.isin(['User_ID', 'Product_ID', 'Product_Category_1'])])\n",
    "# # print(list(df))"
   ]
  },
  {
   "cell_type": "code",
   "execution_count": 845,
   "metadata": {
    "collapsed": true
   },
   "outputs": [],
   "source": [
    "# get the mean value of the data so that there is one one row for each product id\n",
    "df = df.groupby(['Product_ID', 'Product_Category_1'])[['Gender_F', 'Gender_M', \n",
    "                                                  'Age_0-17', 'Age_18-25', 'Age_26-35','Age_36-45',\n",
    "                                                  'Age_46-50', 'Age_51-55', 'Age_55+',\n",
    "                                                  'Occupation_0', 'Occupation_1', 'Occupation_2',\n",
    "                                                  'Occupation_3', 'Occupation_4', 'Occupation_5',\n",
    "                                                  'Occupation_6', 'Occupation_7', 'Occupation_8',\n",
    "                                                  'Occupation_9', 'Occupation_10', 'Occupation_11',\n",
    "                                                  'Occupation_12', 'Occupation_13', 'Occupation_14',\n",
    "                                                  'Occupation_15', 'Occupation_16', 'Occupation_17',\n",
    "                                                  'Occupation_18', 'Occupation_19', 'Occupation_20',\n",
    "                                                  'City_Category_A', 'City_Category_B', 'City_Category_C', \n",
    "                                                  'Marital_Status_0', 'Marital_Status_1',\n",
    "                                                  'Stay_In_Current_City_Years_0', 'Stay_In_Current_City_Years_1',\n",
    "                                                  'Stay_In_Current_City_Years_2', 'Stay_In_Current_City_Years_3',\n",
    "                                                  'Stay_In_Current_City_Years_4+', 'Purchase']].mean()\n",
    "\n",
    "df.reset_index(inplace=True)\n",
    "\n",
    "#normalize the data\n",
    "sc = StandardScaler()\n",
    "df.loc[:, ~df.columns.isin(['User_ID', 'Product_ID', 'Product_Category_1'])] = sc.fit_transform(df.loc[:, ~df.columns.isin(['User_ID', 'Product_ID', 'Product_Category_1'])])"
   ]
  },
  {
   "cell_type": "code",
   "execution_count": 846,
   "metadata": {},
   "outputs": [
    {
     "data": {
      "text/plain": [
       "(3623, 43)"
      ]
     },
     "execution_count": 846,
     "metadata": {},
     "output_type": "execute_result"
    }
   ],
   "source": [
    "df.shape # (3623, 43)"
   ]
  },
  {
   "cell_type": "code",
   "execution_count": 847,
   "metadata": {
    "collapsed": true
   },
   "outputs": [],
   "source": [
    "# split the data into train and predicting set based on value of Product_Category_1\n",
    "train = df.loc[df.Product_Category_1 != -1,:]\n",
    "x_train = train.loc[:,~train.columns.isin(['Product_ID', 'Product_Category_1'])]\n",
    "y_train = train.Product_Category_1\n",
    "\n",
    "test = df.loc[df.Product_Category_1 == -1,:]\n",
    "x_test = test.loc[:,~test.columns.isin(['Product_ID', 'Product_Category_1'])]\n",
    "y_test = test.Product_Category_1"
   ]
  },
  {
   "cell_type": "code",
   "execution_count": 848,
   "metadata": {},
   "outputs": [
    {
     "data": {
      "text/plain": [
       "(1207,)"
      ]
     },
     "execution_count": 848,
     "metadata": {},
     "output_type": "execute_result"
    }
   ],
   "source": [
    "y_test.shape #(1207,)"
   ]
  },
  {
   "cell_type": "code",
   "execution_count": 849,
   "metadata": {
    "collapsed": true
   },
   "outputs": [],
   "source": [
    "'''\n",
    "this is the original data set, we picked out the \n",
    "records that have product id in the test dataset\n",
    "this new data provide us true target of the test set,\n",
    "which were changed to -1 in the test set\n",
    "'''\n",
    "\n",
    "original= pd.read_csv('BlackFriday.csv')\n",
    "original = pd.get_dummies(data=original, columns=['Gender', 'Age', 'Occupation',\n",
    "                                   'City_Category', 'Marital_Status',\n",
    "                                   'Stay_In_Current_City_Years',])\n",
    "original = original.drop(['Product_Category_2', 'Product_Category_3'], axis = 1)\n",
    "original = original.dropna()\n",
    "\n",
    "original = original.groupby(['Product_ID', 'Product_Category_1'])[['Gender_F', 'Gender_M', \n",
    "                                                  'Age_0-17', 'Age_18-25', 'Age_26-35','Age_36-45',\n",
    "                                                  'Age_46-50', 'Age_51-55', 'Age_55+',\n",
    "                                                  'Occupation_0', 'Occupation_1', 'Occupation_2',\n",
    "                                                  'Occupation_3', 'Occupation_4', 'Occupation_5',\n",
    "                                                  'Occupation_6', 'Occupation_7', 'Occupation_8',\n",
    "                                                  'Occupation_9', 'Occupation_10', 'Occupation_11',\n",
    "                                                  'Occupation_12', 'Occupation_13', 'Occupation_14',\n",
    "                                                  'Occupation_15', 'Occupation_16', 'Occupation_17',\n",
    "                                                  'Occupation_18', 'Occupation_19', 'Occupation_20',\n",
    "                                                  'City_Category_A', 'City_Category_B', 'City_Category_C', \n",
    "                                                  'Marital_Status_0', 'Marital_Status_1',\n",
    "                                                  'Stay_In_Current_City_Years_0', 'Stay_In_Current_City_Years_1',\n",
    "                                                  'Stay_In_Current_City_Years_2', 'Stay_In_Current_City_Years_3',\n",
    "                                                  'Stay_In_Current_City_Years_4+', 'Purchase']].mean()\n",
    "\n",
    "original.reset_index(inplace=True)\n",
    "\n",
    "\n",
    "original.loc[:, ~original.columns.isin(['Product_ID', 'Product_Category_1'])] = sc.fit_transform(original.loc[:, ~original.columns.isin(['Product_ID', 'Product_Category_1'])])\n",
    "\n",
    "\n",
    "x_original = original.loc[:,~original.columns.isin(['Product_ID', 'Product_Category_1'])]\n",
    "y_original = original.Product_Category_1 \n",
    "\n",
    "# real_test = original.loc[original.Product_ID.isin(test.Product_ID), ['Product_ID', 'Product_Category_1']]\n",
    "real_y_test = original.loc[original.Product_ID.isin(test.Product_ID), ['Product_Category_1']]\n",
    "real_x_test = original.loc[original.Product_ID.isin(test.Product_ID), ~original.columns.isin(['Product_ID', 'Product_Category_1'])]\n",
    "\n",
    "\n",
    "\n",
    "# print(clf_rf.score(x_original, y_original))\n",
    "# pred = clf_rf.predict(x_original)\n",
    "# print(accuracy_score(pred, y_original))"
   ]
  },
  {
   "cell_type": "code",
   "execution_count": 853,
   "metadata": {},
   "outputs": [
    {
     "name": "stderr",
     "output_type": "stream",
     "text": [
      "/Library/Frameworks/Python.framework/Versions/3.5/lib/python3.5/site-packages/sklearn/cross_validation.py:553: Warning: The least populated class in y has only 1 members, which is too few. The minimum number of labels for any class cannot be less than n_folds=10.\n",
      "  % (min_labels, self.n_folds)), Warning)\n"
     ]
    },
    {
     "name": "stdout",
     "output_type": "stream",
     "text": [
      "0.6176990504256631\n"
     ]
    },
    {
     "data": {
      "text/plain": [
       "0.6296603148301574"
      ]
     },
     "execution_count": 853,
     "metadata": {},
     "output_type": "execute_result"
    }
   ],
   "source": [
    "# first attempt: fit the random forest\n",
    "clf_rf = RandomForestClassifier(n_estimators=70,random_state=0)\n",
    "clf_rf.fit(X=x_train, y=y_train)\n",
    "cv_scores = cross_val_score(clf_rf, X=x_train, y=y_train, cv = 10, scoring='accuracy')\n",
    "print(np.mean(cv_scores))\n",
    "clf_rf.score(real_x_test, real_y_test)"
   ]
  },
  {
   "cell_type": "code",
   "execution_count": 808,
   "metadata": {},
   "outputs": [
    {
     "name": "stderr",
     "output_type": "stream",
     "text": [
      "/Library/Frameworks/Python.framework/Versions/3.5/lib/python3.5/site-packages/sklearn/model_selection/_split.py:597: Warning: The least populated class in y has only 1 members, which is too few. The minimum number of members in any class cannot be less than n_splits=10.\n",
      "  % (min_groups, self.n_splits)), Warning)\n"
     ]
    },
    {
     "data": {
      "text/html": [
       "<div>\n",
       "<style>\n",
       "    .dataframe thead tr:only-child th {\n",
       "        text-align: right;\n",
       "    }\n",
       "\n",
       "    .dataframe thead th {\n",
       "        text-align: left;\n",
       "    }\n",
       "\n",
       "    .dataframe tbody tr th {\n",
       "        vertical-align: top;\n",
       "    }\n",
       "</style>\n",
       "<table border=\"1\" class=\"dataframe\">\n",
       "  <thead>\n",
       "    <tr style=\"text-align: right;\">\n",
       "      <th></th>\n",
       "      <th>mean_test_score</th>\n",
       "      <th>std_test_score</th>\n",
       "      <th>params</th>\n",
       "    </tr>\n",
       "  </thead>\n",
       "  <tbody>\n",
       "    <tr>\n",
       "      <th>0</th>\n",
       "      <td>0.611341</td>\n",
       "      <td>0.038630</td>\n",
       "      <td>{'n_estimators': 60}</td>\n",
       "    </tr>\n",
       "    <tr>\n",
       "      <th>1</th>\n",
       "      <td>0.621275</td>\n",
       "      <td>0.031518</td>\n",
       "      <td>{'n_estimators': 61}</td>\n",
       "    </tr>\n",
       "    <tr>\n",
       "      <th>2</th>\n",
       "      <td>0.610513</td>\n",
       "      <td>0.032669</td>\n",
       "      <td>{'n_estimators': 62}</td>\n",
       "    </tr>\n",
       "    <tr>\n",
       "      <th>3</th>\n",
       "      <td>0.613825</td>\n",
       "      <td>0.028747</td>\n",
       "      <td>{'n_estimators': 63}</td>\n",
       "    </tr>\n",
       "    <tr>\n",
       "      <th>4</th>\n",
       "      <td>0.599752</td>\n",
       "      <td>0.030467</td>\n",
       "      <td>{'n_estimators': 64}</td>\n",
       "    </tr>\n",
       "    <tr>\n",
       "      <th>5</th>\n",
       "      <td>0.613411</td>\n",
       "      <td>0.033407</td>\n",
       "      <td>{'n_estimators': 65}</td>\n",
       "    </tr>\n",
       "    <tr>\n",
       "      <th>6</th>\n",
       "      <td>0.623758</td>\n",
       "      <td>0.026632</td>\n",
       "      <td>{'n_estimators': 66}</td>\n",
       "    </tr>\n",
       "    <tr>\n",
       "      <th>7</th>\n",
       "      <td>0.617136</td>\n",
       "      <td>0.035716</td>\n",
       "      <td>{'n_estimators': 67}</td>\n",
       "    </tr>\n",
       "    <tr>\n",
       "      <th>8</th>\n",
       "      <td>0.613411</td>\n",
       "      <td>0.036556</td>\n",
       "      <td>{'n_estimators': 68}</td>\n",
       "    </tr>\n",
       "    <tr>\n",
       "      <th>9</th>\n",
       "      <td>0.614238</td>\n",
       "      <td>0.035853</td>\n",
       "      <td>{'n_estimators': 69}</td>\n",
       "    </tr>\n",
       "    <tr>\n",
       "      <th>10</th>\n",
       "      <td>0.606788</td>\n",
       "      <td>0.034486</td>\n",
       "      <td>{'n_estimators': 70}</td>\n",
       "    </tr>\n",
       "    <tr>\n",
       "      <th>11</th>\n",
       "      <td>0.610099</td>\n",
       "      <td>0.039342</td>\n",
       "      <td>{'n_estimators': 71}</td>\n",
       "    </tr>\n",
       "    <tr>\n",
       "      <th>12</th>\n",
       "      <td>0.612583</td>\n",
       "      <td>0.031227</td>\n",
       "      <td>{'n_estimators': 72}</td>\n",
       "    </tr>\n",
       "    <tr>\n",
       "      <th>13</th>\n",
       "      <td>0.608858</td>\n",
       "      <td>0.035973</td>\n",
       "      <td>{'n_estimators': 73}</td>\n",
       "    </tr>\n",
       "    <tr>\n",
       "      <th>14</th>\n",
       "      <td>0.613825</td>\n",
       "      <td>0.039415</td>\n",
       "      <td>{'n_estimators': 74}</td>\n",
       "    </tr>\n",
       "    <tr>\n",
       "      <th>15</th>\n",
       "      <td>0.616722</td>\n",
       "      <td>0.030887</td>\n",
       "      <td>{'n_estimators': 75}</td>\n",
       "    </tr>\n",
       "    <tr>\n",
       "      <th>16</th>\n",
       "      <td>0.610513</td>\n",
       "      <td>0.041445</td>\n",
       "      <td>{'n_estimators': 76}</td>\n",
       "    </tr>\n",
       "    <tr>\n",
       "      <th>17</th>\n",
       "      <td>0.611755</td>\n",
       "      <td>0.036647</td>\n",
       "      <td>{'n_estimators': 77}</td>\n",
       "    </tr>\n",
       "    <tr>\n",
       "      <th>18</th>\n",
       "      <td>0.607616</td>\n",
       "      <td>0.037957</td>\n",
       "      <td>{'n_estimators': 78}</td>\n",
       "    </tr>\n",
       "    <tr>\n",
       "      <th>19</th>\n",
       "      <td>0.614238</td>\n",
       "      <td>0.038962</td>\n",
       "      <td>{'n_estimators': 79}</td>\n",
       "    </tr>\n",
       "  </tbody>\n",
       "</table>\n",
       "</div>"
      ],
      "text/plain": [
       "    mean_test_score  std_test_score                params\n",
       "0          0.611341        0.038630  {'n_estimators': 60}\n",
       "1          0.621275        0.031518  {'n_estimators': 61}\n",
       "2          0.610513        0.032669  {'n_estimators': 62}\n",
       "3          0.613825        0.028747  {'n_estimators': 63}\n",
       "4          0.599752        0.030467  {'n_estimators': 64}\n",
       "5          0.613411        0.033407  {'n_estimators': 65}\n",
       "6          0.623758        0.026632  {'n_estimators': 66}\n",
       "7          0.617136        0.035716  {'n_estimators': 67}\n",
       "8          0.613411        0.036556  {'n_estimators': 68}\n",
       "9          0.614238        0.035853  {'n_estimators': 69}\n",
       "10         0.606788        0.034486  {'n_estimators': 70}\n",
       "11         0.610099        0.039342  {'n_estimators': 71}\n",
       "12         0.612583        0.031227  {'n_estimators': 72}\n",
       "13         0.608858        0.035973  {'n_estimators': 73}\n",
       "14         0.613825        0.039415  {'n_estimators': 74}\n",
       "15         0.616722        0.030887  {'n_estimators': 75}\n",
       "16         0.610513        0.041445  {'n_estimators': 76}\n",
       "17         0.611755        0.036647  {'n_estimators': 77}\n",
       "18         0.607616        0.037957  {'n_estimators': 78}\n",
       "19         0.614238        0.038962  {'n_estimators': 79}"
      ]
     },
     "execution_count": 808,
     "metadata": {},
     "output_type": "execute_result"
    }
   ],
   "source": [
    "num_trees = list(range(60,80))\n",
    "param_grid = dict(n_estimators = num_trees)\n",
    "grid = GridSearchCV(RandomForestClassifier(), param_grid, cv = 10, return_train_score=False)\n",
    "grid.fit(x_train, y_train)\n",
    "rf_result = pd.DataFrame(grid.cv_results_)[['mean_test_score', 'std_test_score', 'params']]\n",
    "rf_result"
   ]
  },
  {
   "cell_type": "code",
   "execution_count": 854,
   "metadata": {},
   "outputs": [
    {
     "data": {
      "text/plain": [
       "(1207, 2)"
      ]
     },
     "execution_count": 854,
     "metadata": {},
     "output_type": "execute_result"
    }
   ],
   "source": [
    "# predict the data and write result to csv\n",
    "pred = clf_rf.predict(x_test)\n",
    "result = pd.DataFrame({'Product_ID' : test.Product_ID, 'Product_Category_1' : pred})\n",
    "result = result[['Product_ID', 'Product_Category_1']]\n",
    "result.to_csv('Prediction.csv', index=False)\n",
    "result.shape"
   ]
  },
  {
   "cell_type": "code",
   "execution_count": 871,
   "metadata": {},
   "outputs": [
    {
     "data": {
      "text/plain": [
       "0.68019884009942"
      ]
     },
     "execution_count": 871,
     "metadata": {},
     "output_type": "execute_result"
    }
   ],
   "source": [
    "# Bagging\n",
    "bg = BaggingClassifier(base_estimator=DecisionTreeClassifier(), max_features=0.8, n_estimators=50)\n",
    "bg.fit(x_train, y_train)\n",
    "bg.score(real_x_test, real_y_test)\n",
    "# 0.6810273405136703  0.8 50"
   ]
  },
  {
   "cell_type": "code",
   "execution_count": 872,
   "metadata": {},
   "outputs": [
    {
     "data": {
      "text/plain": [
       "(1207, 2)"
      ]
     },
     "execution_count": 872,
     "metadata": {},
     "output_type": "execute_result"
    }
   ],
   "source": [
    "# predict the data and write result to csv\n",
    "pred = bg.predict(x_test)\n",
    "result = pd.DataFrame({'Product_ID' : test.Product_ID, 'Product_Category_1' : pred})\n",
    "result = result[['Product_ID', 'Product_Category_1']]\n",
    "result.to_csv('Prediction.csv', index=False)\n",
    "result.shape"
   ]
  },
  {
   "cell_type": "code",
   "execution_count": 856,
   "metadata": {},
   "outputs": [
    {
     "data": {
      "text/plain": [
       "0.5666942833471417"
      ]
     },
     "execution_count": 856,
     "metadata": {},
     "output_type": "execute_result"
    }
   ],
   "source": [
    "# Boosting\n",
    "adb = AdaBoostClassifier(DecisionTreeClassifier(), n_estimators=5, learning_rate=1)\n",
    "adb.fit(x_train, y_train)\n",
    "adb.score(real_x_test, real_y_test)"
   ]
  },
  {
   "cell_type": "code",
   "execution_count": 857,
   "metadata": {},
   "outputs": [
    {
     "name": "stderr",
     "output_type": "stream",
     "text": [
      "/Library/Frameworks/Python.framework/Versions/3.5/lib/python3.5/site-packages/sklearn/preprocessing/label.py:151: DeprecationWarning: The truth value of an empty array is ambiguous. Returning False, but in future this will result in an error. Use `array.size > 0` to check that an array is not empty.\n",
      "  if diff:\n"
     ]
    },
    {
     "data": {
      "text/plain": [
       "0.5890637945318973"
      ]
     },
     "execution_count": 857,
     "metadata": {},
     "output_type": "execute_result"
    }
   ],
   "source": [
    "# Voting \n",
    "dt = DecisionTreeClassifier()\n",
    "svm = SVC(kernel = 'rbf')\n",
    "evc = VotingClassifier(estimators=[('dt', dt), ('svm', svm)])\n",
    "evc.fit(x_train, y_train)\n",
    "evc.score(real_x_test, real_y_test)"
   ]
  },
  {
   "cell_type": "code",
   "execution_count": 818,
   "metadata": {
    "collapsed": true
   },
   "outputs": [],
   "source": []
  },
  {
   "cell_type": "code",
   "execution_count": 817,
   "metadata": {
    "collapsed": true
   },
   "outputs": [],
   "source": []
  },
  {
   "cell_type": "code",
   "execution_count": 784,
   "metadata": {},
   "outputs": [
    {
     "data": {
      "text/plain": [
       "0.5244407622203812"
      ]
     },
     "execution_count": 784,
     "metadata": {},
     "output_type": "execute_result"
    }
   ],
   "source": [
    "clf_rf.score(real_x_test, real_y_test)"
   ]
  },
  {
   "cell_type": "code",
   "execution_count": null,
   "metadata": {
    "collapsed": true
   },
   "outputs": [],
   "source": []
  }
 ],
 "metadata": {
  "kernelspec": {
   "display_name": "Python 3",
   "language": "python",
   "name": "python3"
  },
  "language_info": {
   "codemirror_mode": {
    "name": "ipython",
    "version": 3
   },
   "file_extension": ".py",
   "mimetype": "text/x-python",
   "name": "python",
   "nbconvert_exporter": "python",
   "pygments_lexer": "ipython3",
   "version": "3.5.2"
  }
 },
 "nbformat": 4,
 "nbformat_minor": 2
}
